{
 "cells": [
  {
   "cell_type": "markdown",
   "metadata": {},
   "source": [
    "**Medication Reviews in OpenSAFELY**\n",
    "August 2022\n",
    "V Speed"
   ]
  },
  {
   "cell_type": "markdown",
   "metadata": {},
   "source": [
    "The two measures for medication reviews are:\n",
    "1. Structured medication review\n",
    "https://www.opencodelists.org/codelist/opensafely/structured-medication-review-nhs-england/5459205f/\n",
    "Coding system: SNOMED CT\n",
    "\n",
    "2. Medication reviews\n",
    "https://www.opencodelists.org/codelist/opensafely/care-planning-medication-review-simple-reference-set-nhs-digital/61b13c39/\n",
    "Coding system: SNOMED CT\n",
    "\n",
    "The top 5 codes used:\n",
    "182836005\tReview of medication (procedure) 13.1%\n",
    "88551000000109\tMedication review with patient (procedure) 12.22%\n",
    "1239511000000100\tStructured medication review (procedure) 9.25 % (Note this is the same as SMR single code)\n",
    "185381007\tRepeat medication check (procedure) 8.86 %\n",
    "93311000000106\tMedication review of medical notes (procedure) 7.5 %"
   ]
  },
  {
   "cell_type": "markdown",
   "metadata": {},
   "source": [
    "*Demographic variables* \n",
    "- Sex (Categorical)\n",
    "- Age (Age bands)\n",
    "- Ethnicity\n",
    "- Learning disability\n",
    "- Care home status\n",
    "- Practice\n",
    "- Region"
   ]
  },
  {
   "cell_type": "code",
   "execution_count": 9,
   "metadata": {},
   "outputs": [
    {
     "data": {
      "text/plain": [
       "<Figure size 1080x576 with 0 Axes>"
      ]
     },
     "metadata": {},
     "output_type": "display_data"
    },
    {
     "data": {
      "text/plain": [
       "<Figure size 1080x576 with 0 Axes>"
      ]
     },
     "metadata": {},
     "output_type": "display_data"
    },
    {
     "data": {
      "text/plain": [
       "<Figure size 1080x576 with 0 Axes>"
      ]
     },
     "metadata": {},
     "output_type": "display_data"
    },
    {
     "data": {
      "text/plain": [
       "<Figure size 1080x576 with 0 Axes>"
      ]
     },
     "metadata": {},
     "output_type": "display_data"
    }
   ],
   "source": [
    "import pandas as pd\n",
    "from utilities import *\n",
    "\n",
    "if not (OUTPUT_DIR / \"figures\").exists():\n",
    "    Path.mkdir(OUTPUT_DIR / \"figures\")\n",
    "\n",
    "\n",
    "breakdowns=[\n",
    "\"age_band\",\n",
    "\"sex\",\n",
    "\"imdQ5\",\n",
    "\"region\",\n",
    "\"ethnicity\",\n",
    "\"nhome\",\n",
    "\"learning_disability\",\n",
    "\"care_home_type\"\n",
    "]\n",
    "\n",
    "med_review_type=[\"smr\", \"mr\"]\n",
    "for med_review in med_review_type:\n",
    "    df = pd.read_csv(OUTPUT_DIR / f\"joined/measure_{med_review}_population_rate.csv\", parse_dates=[\"date\"])\n",
    "    plot_measures(df, filename=f\"{med_review}_population_rate\", title=\"\", column_to_plot=\"value\", y_label=\"Rate\")\n",
    "    for breakdownby in breakdowns:\n",
    "        df = pd.read_csv(OUTPUT_DIR / f\"joined/measure_{med_review}_{breakdownby}_rate.csv\", parse_dates=[\"date\"])\n",
    "        df[breakdownby] = df[breakdownby].fillna('missing')\n",
    "        if (breakdownby == \"care_home_type\"): \n",
    "            df=binary_care_home_status(df, f'had_{med_review}', 'population')\n",
    "    plot_measures(df, filename=f\"{med_review}_{breakdownby}_rate\", title=\"\", column_to_plot=\"value\", y_label=\"Rate\", category=breakdownby)"
   ]
  },
  {
   "cell_type": "code",
   "execution_count": null,
   "metadata": {},
   "outputs": [],
   "source": []
  },
  {
   "cell_type": "code",
   "execution_count": null,
   "metadata": {},
   "outputs": [],
   "source": []
  }
 ],
 "metadata": {
  "kernelspec": {
   "display_name": "Python 3",
   "language": "python",
   "name": "python3"
  },
  "language_info": {
   "codemirror_mode": {
    "name": "ipython",
    "version": 3
   },
   "file_extension": ".py",
   "mimetype": "text/x-python",
   "name": "python",
   "nbconvert_exporter": "python",
   "pygments_lexer": "ipython3",
   "version": "3.8.10"
  }
 },
 "nbformat": 4,
 "nbformat_minor": 4
}
