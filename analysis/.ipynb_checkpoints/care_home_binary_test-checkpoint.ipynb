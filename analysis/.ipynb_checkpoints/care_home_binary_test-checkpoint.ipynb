{
 "cells": [
  {
   "cell_type": "code",
   "execution_count": 2,
   "metadata": {},
   "outputs": [],
   "source": [
    "import pandas as pd\n",
    "from utilities import *"
   ]
  },
  {
   "cell_type": "code",
   "execution_count": 69,
   "metadata": {},
   "outputs": [],
   "source": [
    "df = pd.read_csv(OUTPUT_DIR / f\"joined/measure_smr_care_home_type_rate.csv\", parse_dates=[\"date\"])\n",
    "df['care_home_type'] = df['care_home_type'].fillna('missing')\n",
    "dforiginal = df"
   ]
  },
  {
   "cell_type": "code",
   "execution_count": 82,
   "metadata": {},
   "outputs": [],
   "source": [
    "def binary_care_home_status(\n",
    "    df,\n",
    "    numerator_column: str,\n",
    "    denominator_column: str,\n",
    "):\n",
    "    \"\"\"Converts various care home types into binary value..\n",
    "    Args:\n",
    "        df: A measure table\n",
    "        numerator_column: Column heading to use as numerator\n",
    "        denominator_column: Column heading to use as denominator\n",
    "    \"\"\" \n",
    "    df.replace({'CareHome': 1, 'CareOrNursingHome': 1, 'NursingHome':1, 'PrivateHome':0, 'missing': 0},inplace = True)\n",
    "    grouped_df = df.groupby([\"care_home_type\", \"date\"], as_index=False)[[numerator_column, denominator_column]].sum()\n",
    "    grouped_df['value'] = grouped_df[numerator_column]/grouped_df[denominator_column]\n",
    "    return grouped_df"
   ]
  },
  {
   "cell_type": "code",
   "execution_count": 83,
   "metadata": {},
   "outputs": [
    {
     "data": {
      "text/html": [
       "<div>\n",
       "<style scoped>\n",
       "    .dataframe tbody tr th:only-of-type {\n",
       "        vertical-align: middle;\n",
       "    }\n",
       "\n",
       "    .dataframe tbody tr th {\n",
       "        vertical-align: top;\n",
       "    }\n",
       "\n",
       "    .dataframe thead th {\n",
       "        text-align: right;\n",
       "    }\n",
       "</style>\n",
       "<table border=\"1\" class=\"dataframe\">\n",
       "  <thead>\n",
       "    <tr style=\"text-align: right;\">\n",
       "      <th></th>\n",
       "      <th>care_home_type</th>\n",
       "      <th>date</th>\n",
       "      <th>had_smr</th>\n",
       "      <th>population</th>\n",
       "      <th>value</th>\n",
       "    </tr>\n",
       "  </thead>\n",
       "  <tbody>\n",
       "    <tr>\n",
       "      <th>0</th>\n",
       "      <td>0</td>\n",
       "      <td>2020-01-01</td>\n",
       "      <td>299.0</td>\n",
       "      <td>1493</td>\n",
       "      <td>0.200268</td>\n",
       "    </tr>\n",
       "    <tr>\n",
       "      <th>1</th>\n",
       "      <td>0</td>\n",
       "      <td>2020-02-01</td>\n",
       "      <td>305.0</td>\n",
       "      <td>1469</td>\n",
       "      <td>0.207624</td>\n",
       "    </tr>\n",
       "    <tr>\n",
       "      <th>2</th>\n",
       "      <td>0</td>\n",
       "      <td>2020-03-01</td>\n",
       "      <td>303.0</td>\n",
       "      <td>1476</td>\n",
       "      <td>0.205285</td>\n",
       "    </tr>\n",
       "    <tr>\n",
       "      <th>3</th>\n",
       "      <td>1</td>\n",
       "      <td>2020-01-01</td>\n",
       "      <td>301.0</td>\n",
       "      <td>1507</td>\n",
       "      <td>0.199735</td>\n",
       "    </tr>\n",
       "    <tr>\n",
       "      <th>4</th>\n",
       "      <td>1</td>\n",
       "      <td>2020-02-01</td>\n",
       "      <td>295.0</td>\n",
       "      <td>1531</td>\n",
       "      <td>0.192685</td>\n",
       "    </tr>\n",
       "    <tr>\n",
       "      <th>5</th>\n",
       "      <td>1</td>\n",
       "      <td>2020-03-01</td>\n",
       "      <td>297.0</td>\n",
       "      <td>1524</td>\n",
       "      <td>0.194882</td>\n",
       "    </tr>\n",
       "  </tbody>\n",
       "</table>\n",
       "</div>"
      ],
      "text/plain": [
       "   care_home_type       date  had_smr  population     value\n",
       "0               0 2020-01-01    299.0        1493  0.200268\n",
       "1               0 2020-02-01    305.0        1469  0.207624\n",
       "2               0 2020-03-01    303.0        1476  0.205285\n",
       "3               1 2020-01-01    301.0        1507  0.199735\n",
       "4               1 2020-02-01    295.0        1531  0.192685\n",
       "5               1 2020-03-01    297.0        1524  0.194882"
      ]
     },
     "execution_count": 83,
     "metadata": {},
     "output_type": "execute_result"
    }
   ],
   "source": [
    "df=dforiginal\n",
    "df = binary_care_home_status(df, 'had_smr', 'population')\n",
    "df"
   ]
  },
  {
   "cell_type": "code",
   "execution_count": null,
   "metadata": {},
   "outputs": [],
   "source": []
  }
 ],
 "metadata": {
  "kernelspec": {
   "display_name": "Python 3.9.12 ('base')",
   "language": "python",
   "name": "python3"
  },
  "language_info": {
   "codemirror_mode": {
    "name": "ipython",
    "version": 3
   },
   "file_extension": ".py",
   "mimetype": "text/x-python",
   "name": "python",
   "nbconvert_exporter": "python",
   "pygments_lexer": "ipython3",
   "version": "3.9.12"
  },
  "vscode": {
   "interpreter": {
    "hash": "64be07882c81e66214f465a3de77b0ee574527cdbb21bb89ce1fb39fff35230b"
   }
  }
 },
 "nbformat": 4,
 "nbformat_minor": 4
}
